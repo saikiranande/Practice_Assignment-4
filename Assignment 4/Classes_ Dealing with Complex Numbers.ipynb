{
 "cells": [
  {
   "cell_type": "code",
   "execution_count": 3,
   "id": "1d7c2a3f",
   "metadata": {},
   "outputs": [
    {
     "name": "stdout",
     "output_type": "stream",
     "text": [
      "1 2\n",
      "3 4\n",
      "4.00+6.00i\n",
      "-2.00-2.00i\n",
      "-5.00+10.00i\n",
      "0.44+0.08i\n",
      "2.24+0.00i\n",
      "5.00+0.00i\n"
     ]
    }
   ],
   "source": [
    "import math\n",
    " \n",
    "class Complex(object):\n",
    "    def __init__(self, real, imaginary):\n",
    "        self.real = real\n",
    "        self.imag=imaginary\n",
    "        \n",
    "    def __add__(self, no):\n",
    "        \n",
    "        return Complex(self.real+no.real,self.imag+no.imag)\n",
    "        \n",
    "        \n",
    "    def __sub__(self, no):\n",
    "        \n",
    "        return Complex(self.real-no.real,self.imag-no.imag)\n",
    "    def __mul__(self, no):\n",
    "        real = self.real * no.real - self.imag * no.imag\n",
    "        imaginary = self.real * no.imag + self.imag * no.real       \n",
    "        return Complex(real,imaginary)\n",
    "    def __truediv__(self, no):\n",
    "        x = float(no.real ** 2 + no.imag ** 2)\n",
    "        y = self * Complex(no.real, -no.imag)\n",
    "        real = y.real / x\n",
    "        imaginary = y.imag / x\n",
    "        return Complex(real,imaginary)\n",
    "\n",
    "    def mod(self):\n",
    "        real = math.sqrt(self.real**2+self.imag**2)\n",
    "        return Complex(real,0)\n",
    "\n",
    "    def __str__(self):\n",
    "        if self.imag == 0:\n",
    "            result = \"%.2f+0.00i\" % (self.real)\n",
    "        elif self.real == 0:\n",
    "            if self.imag >= 0:\n",
    "                result = \"0.00+%.2fi\" % (self.imag)\n",
    "            else:\n",
    "                result = \"0.00-%.2fi\" % (abs(self.imag))\n",
    "        elif self.imag > 0:\n",
    "            result = \"%.2f+%.2fi\" % (self.real, self.imag)\n",
    "        else:\n",
    "            result = \"%.2f-%.2fi\" % (self.real, abs(self.imag))\n",
    "        return result\n",
    "if __name__ == '__main__':\n",
    "    c = map(float, input().split())\n",
    "    d = map(float, input().split())\n",
    "    x = Complex(*c)\n",
    "    y = Complex(*d)\n",
    "    print(*map(str, [x+y, x-y, x*y, x/y, x.mod(), y.mod()]), sep='\\n')\n"
   ]
  },
  {
   "cell_type": "code",
   "execution_count": null,
   "id": "cae5c652",
   "metadata": {},
   "outputs": [],
   "source": []
  }
 ],
 "metadata": {
  "kernelspec": {
   "display_name": "Python 3 (ipykernel)",
   "language": "python",
   "name": "python3"
  },
  "language_info": {
   "codemirror_mode": {
    "name": "ipython",
    "version": 3
   },
   "file_extension": ".py",
   "mimetype": "text/x-python",
   "name": "python",
   "nbconvert_exporter": "python",
   "pygments_lexer": "ipython3",
   "version": "3.9.7"
  }
 },
 "nbformat": 4,
 "nbformat_minor": 5
}
