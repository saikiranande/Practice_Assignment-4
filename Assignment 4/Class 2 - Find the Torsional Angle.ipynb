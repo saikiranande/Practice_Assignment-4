{
 "cells": [
  {
   "cell_type": "code",
   "execution_count": 2,
   "id": "e02c4a70",
   "metadata": {},
   "outputs": [
    {
     "name": "stdout",
     "output_type": "stream",
     "text": [
      "1 3 5\n",
      "4 2 6 \n",
      "8 7 5 \n",
      "0 3 1\n",
      "32.95\n"
     ]
    }
   ],
   "source": [
    "import math\n",
    "\n",
    "class Points(object):\n",
    "    def __init__(self, x, y, z):\n",
    "        self.x =x\n",
    "        self.y = y\n",
    "        self.z = z\n",
    "        \n",
    "\n",
    "    def __sub__(self, no):\n",
    "        x = self.x-no.x\n",
    "        y = self.y-no.y\n",
    "        z = self.z-no.z\n",
    "        return Points(x,y,z)\n",
    "        \n",
    "\n",
    "    def dot(self, no):\n",
    "        x = self.x*no.x\n",
    "        y = self.y*no.y\n",
    "        z = self.z*no.z\n",
    "        return x+y+z\n",
    "\n",
    "    def cross(self, no):\n",
    "        x = self.y*no.z-self.z*no.y\n",
    "        y = self.z*no.x-self.x*no.z\n",
    "        z = self.x*no.y-self.y*no.x\n",
    "        return Points(x,y,z)\n",
    "        \n",
    "    def absolute(self):\n",
    "        return pow((self.x ** 2 + self.y ** 2 + self.z ** 2), 0.5)\n",
    "\n",
    "if __name__ == '__main__':\n",
    "    points = list()\n",
    "    for i in range(4):\n",
    "        a = list(map(float, input().split()))\n",
    "        points.append(a)\n",
    "\n",
    "    a, b, c, d = Points(*points[0]), Points(*points[1]), Points(*points[2]), Points(*points[3])\n",
    "    x = (b - a).cross(c - b)\n",
    "    y = (c - b).cross(d - c)\n",
    "    angle = math.acos(x.dot(y) / (x.absolute() * y.absolute()))\n",
    "\n",
    "    print(\"%.2f\" % math.degrees(angle))"
   ]
  }
 ],
 "metadata": {
  "kernelspec": {
   "display_name": "Python 3 (ipykernel)",
   "language": "python",
   "name": "python3"
  },
  "language_info": {
   "codemirror_mode": {
    "name": "ipython",
    "version": 3
   },
   "file_extension": ".py",
   "mimetype": "text/x-python",
   "name": "python",
   "nbconvert_exporter": "python",
   "pygments_lexer": "ipython3",
   "version": "3.9.7"
  }
 },
 "nbformat": 4,
 "nbformat_minor": 5
}
